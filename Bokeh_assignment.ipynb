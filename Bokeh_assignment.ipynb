{
  "nbformat": 4,
  "nbformat_minor": 0,
  "metadata": {
    "colab": {
      "provenance": []
    },
    "kernelspec": {
      "name": "python3",
      "display_name": "Python 3"
    },
    "language_info": {
      "name": "python"
    }
  },
  "cells": [
    {
      "cell_type": "code",
      "execution_count": null,
      "metadata": {
        "id": "4v-TXHphTdRg"
      },
      "outputs": [],
      "source": []
    },
    {
      "cell_type": "markdown",
      "source": [
        "Q1. How can you create a Bokeh plot using Python code?"
      ],
      "metadata": {
        "id": "-wtSJf5xTqJ9"
      }
    },
    {
      "cell_type": "code",
      "source": [
        "from bokeh.plotting import figure, show\n",
        "\n",
        "# Sample data\n",
        "x = [1, 2, 3, 4, 5]\n",
        "y = [6, 7, 2, 4, 8]\n",
        "\n",
        "# Create a figure\n",
        "p = figure(title=\"Simple Bokeh Scatter Plot\", x_axis_label=\"X-axis\", y_axis_label=\"Y-axis\")\n",
        "\n",
        "# Add a scatter plot\n",
        "p.scatter(x, y, size=10, color=\"blue\")\n",
        "\n",
        "# Show the plot\n",
        "show(p)\n",
        "\n"
      ],
      "metadata": {
        "id": "_zUEry43Tq8K"
      },
      "execution_count": 3,
      "outputs": []
    },
    {
      "cell_type": "markdown",
      "source": [
        "Q2. What are glyphs in Bokeh, and how can you add them to a Bokeh plot? Explain with an example."
      ],
      "metadata": {
        "id": "VYCE9rSTUGng"
      }
    },
    {
      "cell_type": "code",
      "source": [
        "from bokeh.plotting import figure, show\n",
        "\n",
        "# Sample data\n",
        "x = [1, 2, 3, 4, 5]\n",
        "y = [6, 7, 2, 4, 8]\n",
        "line_x = [1, 5]\n",
        "line_y = [3, 7]\n",
        "\n",
        "# Create a figure\n",
        "p = figure(title=\"Bokeh Plot with Circles and Line\", x_axis_label=\"X-axis\", y_axis_label=\"Y-axis\")\n",
        "\n",
        "# Add circles glyph\n",
        "p.circle(x, y, size=10, color=\"blue\", alpha=0.8, legend_label=\"Circles\")\n",
        "\n",
        "# Add a line glyph\n",
        "p.line(line_x, line_y, line_width=2, color=\"red\", legend_label=\"Line\")\n",
        "\n",
        "# Show the plot with a legend\n",
        "p.legend.location = \"top_left\"\n",
        "show(p)\n"
      ],
      "metadata": {
        "id": "dlf585o1T3-Y"
      },
      "execution_count": 4,
      "outputs": []
    },
    {
      "cell_type": "markdown",
      "source": [
        "Q3. How can you customize the appearance of a Bokeh plot, including the axes, title, and legend?"
      ],
      "metadata": {
        "id": "1l_43IVcUO55"
      }
    },
    {
      "cell_type": "markdown",
      "source": [
        "1 - Customizing Figure Properties:"
      ],
      "metadata": {
        "id": "24nTNO2QUb_z"
      }
    },
    {
      "cell_type": "code",
      "source": [
        "from bokeh.plotting import figure, show\n",
        "from bokeh.models import Legend\n",
        "\n",
        "# Sample data\n",
        "x = [1, 2, 3, 4, 5]\n",
        "y = [6, 7, 2, 4, 8]\n",
        "line_x = [1, 5]\n",
        "line_y = [3, 7]\n",
        "\n",
        "# Create a figure with custom properties\n",
        "p = figure(title=\"Customized Bokeh Plot\", x_axis_label=\"X-axis\", y_axis_label=\"Y-axis\",  background_fill_color=\"lightgray\",toolbar_location=\"above\")\n",
        "\n",
        "# Customize the axes\n",
        "p.xaxis.axis_label_text_font_size = \"14pt\"\n",
        "p.yaxis.axis_label_text_font_style = \"italic\"\n",
        "p.xaxis.major_label_text_color = \"blue\"\n",
        "p.yaxis.major_label_text_font_size = \"12pt\"\n",
        "p.yaxis.major_tick_line_color = \"red\"\n",
        "p.xgrid.grid_line_color = \"gray\"\n",
        "\n",
        "# Customize the title\n",
        "p.title.text_font_size = \"20pt\"\n",
        "p.title.text_font_style = \"bold\"\n",
        "\n",
        "# Add circles glyph\n",
        "circle_glyph = p.circle(x, y, size=10, color=\"blue\", alpha=0.8)\n",
        "\n",
        "# Add a line glyph\n",
        "line_glyph = p.line(line_x, line_y, line_width=2, color=\"red\")\n",
        "\n",
        "# Customize the legend\n",
        "legend = Legend(items=[\n",
        "    (\"Circles\", [circle_glyph]),\n",
        "    (\"Line\", [line_glyph])\n",
        "], location=\"top_left\")\n",
        "p.add_layout(legend)\n",
        "\n",
        "# Show the plot\n",
        "show(p)\n"
      ],
      "metadata": {
        "id": "CoAkQau5UMpG"
      },
      "execution_count": 10,
      "outputs": []
    },
    {
      "cell_type": "markdown",
      "source": [
        "Q4. What is a Bokeh server, and how can you use it to create interactive plots that can be updated in\n",
        "real time?"
      ],
      "metadata": {
        "id": "jnDCznM-VLoE"
      }
    },
    {
      "cell_type": "code",
      "source": [
        "from bokeh.io import curdoc\n",
        "from bokeh.plotting import figure\n",
        "from bokeh.models import ColumnDataSource, Slider\n",
        "from bokeh.layouts import column\n",
        "\n",
        "# Prepare the data\n",
        "x = [1, 2, 3, 4, 5]\n",
        "y = [6, 7, 2, 4, 8]\n",
        "\n",
        "# Create a ColumnDataSource to hold the data\n",
        "source = ColumnDataSource(data=dict(x=x, y=y))\n",
        "\n",
        "# Create the figure and glyphs\n",
        "p = figure()\n",
        "p.circle(x='x', y='y', source=source, size=10, color=\"blue\", alpha=0.8)\n",
        "\n",
        "# Define the callback function\n",
        "def update_plot(attr, old, new):\n",
        "    new_y = [y_val * slider.value for y_val in y]\n",
        "    source.data = dict(x=x, y=new_y)\n",
        "\n",
        "# Create a slider widget\n",
        "slider = Slider(start=1, end=10, value=1, step=1, title=\"Slider\")\n",
        "\n",
        "# Attach the callback to the slider's value change event\n",
        "slider.on_change('value', update_plot)\n",
        "\n",
        "# Arrange the layout\n",
        "layout = column(slider, p)\n",
        "\n",
        "# Add the layout to the document\n",
        "curdoc().add_root(layout)\n"
      ],
      "metadata": {
        "id": "QJNvTzvrUfO9"
      },
      "execution_count": 13,
      "outputs": []
    },
    {
      "cell_type": "markdown",
      "source": [
        "Q5. How can you embed a Bokeh plot into a web page or dashboard using Flask or Django?"
      ],
      "metadata": {
        "id": "V-npPlLdVfkH"
      }
    },
    {
      "cell_type": "markdown",
      "source": [
        "To embed a Bokeh plot into a web page or dashboard using Flask or Django, you can follow these general steps:\n",
        "\n",
        "Create the Bokeh Plot:\n",
        "First, create the Bokeh plot as you would normally do using the Bokeh library. This includes importing the necessary modules, preparing the data, creating the figure, adding glyphs, and customizing the appearance of the plot.\n",
        "\n",
        "Export the Plot to HTML:\n",
        "Use the bokeh.embed module to export the Bokeh plot to an HTML file or string.\n",
        "\n",
        "Set up Flask or Django:\n",
        "Set up a Flask or Django application to serve the HTML file containing the Bokeh plot. You can define routes or views to handle the rendering of the plot in your web page or dashboard.\n",
        "\n",
        "Embed the Bokeh Plot in the Web Page:\n",
        "In your Flask or Django template, use the appropriate syntax to embed the Bokeh plot into the web page. The exact syntax will depend on the framework you are using."
      ],
      "metadata": {
        "id": "UEabW2rwVulJ"
      }
    },
    {
      "cell_type": "code",
      "source": [],
      "metadata": {
        "id": "gQQYToHfVWBb"
      },
      "execution_count": null,
      "outputs": []
    }
  ]
}